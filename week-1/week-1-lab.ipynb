{
 "cells": [
  {
   "cell_type": "markdown",
   "metadata": {
    "id": "RKdB1i2P-hMV"
   },
   "source": [
    "# Week 1 Lab\n",
    "## Starter Activity\n",
    "\n",
    "**Challenge 1: Stock Market Portfolio**\n",
    "\n",
    "You have a portfolio of stocks with the following information:\n",
    "\n",
    "- Stock 1: Company: Apple Inc., Ticker: AAPL, Price: $150.50\n",
    "\n",
    "- Stock 2: Company: Microsoft Corporation, Ticker: MSFT, Price: $300.25\n",
    "\n",
    "- Stock 3: Company: Amazon.com Inc., Ticker: AMZN, Price: $3500.75\n",
    "\n",
    "Store these values inside appropriate variables and create an f-string that formats this information into a readable summary. For example:\n",
    "\n",
    "```\n",
    "Stock Portfolio:\n",
    "- AAPL (Apple Inc.): $150.50\n",
    "- MSFT (Microsoft Corporation): $300.25\n",
    "- AMZN (Amazon.com Inc.): $3500.75\n",
    "```\n"
   ]
  },
  {
   "cell_type": "code",
   "execution_count": null,
   "metadata": {
    "id": "xkN7PmSz-0h7"
   },
   "outputs": [],
   "source": [
    "#Write Code Here"
   ]
  },
  {
   "cell_type": "markdown",
   "metadata": {
    "id": "Q_7geqQO-2Zj"
   },
   "source": [
    "**Challenge 2: Stock Price Change**\n",
    "\n",
    "The price of a stock has changed from its previous value. Given the following information:\n",
    "\n",
    "- Ticker: AAPL\n",
    "- Previous Price: $150.50\n",
    "- Current Price: $155.75\n",
    "\n",
    "Create an f-string that displays the stock's ticker symbol, its previous price, the current price, and the price change as a percentage. For example:\n",
    "\n",
    "```\n",
    "AAPL - Previous Price: $150.50, Current Price: $155.75, Change: +3.49%\n",
    "```"
   ]
  },
  {
   "cell_type": "code",
   "execution_count": null,
   "metadata": {
    "id": "zAiO-Lib-6HC"
   },
   "outputs": [],
   "source": [
    "#Write code here"
   ]
  },
  {
   "cell_type": "markdown",
   "metadata": {
    "id": "EmvkAu-9ge-u"
   },
   "source": [
    "## Activity 1: Variable Naming Convention\n",
    "Edit the markdown cells for your written answers\n",
    "\n",
    "**Description:** In this puzzle, you'll learn about Python variable naming conventions.\n",
    "\n",
    "**Questions:**\n",
    "1. What is the naming convention for variables in Python?\n",
    "2. Why is it important to follow naming conventions?\n",
    "3. Can you provide an example of another variable name that adheres to Python naming conventions?"
   ]
  },
  {
   "cell_type": "markdown",
   "metadata": {
    "id": "ai5zwSV0hw9n"
   },
   "source": [
    "1.\n",
    "\n",
    "2.\n",
    "\n",
    "3."
   ]
  },
  {
   "cell_type": "markdown",
   "metadata": {
    "id": "NQgJx1mBhuG9"
   },
   "source": [
    "**Instructions:**\n",
    "1. Identify the issue with the variable name in the code.\n",
    "2. Correct the variable name following Python naming conventions.\n",
    "3. Print the corrected variable.\n",
    "\n",
    "**Code:**\n",
    "```python\n",
    "first name = \"John\"\n",
    "```\n",
    "\n",
    "**Expected Output:**\n",
    "```\n",
    "John\n",
    "```"
   ]
  },
  {
   "cell_type": "code",
   "execution_count": null,
   "metadata": {
    "id": "B1GO_xWYh3Hs"
   },
   "outputs": [],
   "source": [
    "#Write Code Here"
   ]
  },
  {
   "cell_type": "markdown",
   "metadata": {
    "id": "ErU70mYhgzAt"
   },
   "source": [
    "## Activity 2: Missing Variable\n",
    "\n",
    "**Description:** In this puzzle, you'll handle a missing variable.\n",
    "\n",
    "**Questions:**\n",
    "1. What happens when a variable is used before it's declared?\n",
    "2. Why is it important to declare variables before using them?\n",
    "3. Can you explain the purpose of variable initialization?\n"
   ]
  },
  {
   "cell_type": "markdown",
   "metadata": {
    "id": "t8x-K_1piUBK"
   },
   "source": [
    "1.\n",
    "\n",
    "2.\n",
    "\n",
    "3."
   ]
  },
  {
   "cell_type": "markdown",
   "metadata": {
    "id": "cA3LlUVaiJGA"
   },
   "source": [
    "**Instructions:**\n",
    "1. Declare the missing variable with an appropriate string value to print \"Hello, World!\"\n",
    "2. Print the \"Hello, World!\" message.\n",
    "\n",
    "**Code:**\n",
    "```python\n",
    "print(message)\n",
    "```\n",
    "\n",
    "**Expected Output:**\n",
    "```\n",
    "Hello, World!\n",
    "```"
   ]
  },
  {
   "cell_type": "code",
   "execution_count": null,
   "metadata": {
    "id": "gomISzPXiGmF"
   },
   "outputs": [],
   "source": [
    "#Write Code Here"
   ]
  },
  {
   "cell_type": "markdown",
   "metadata": {
    "id": "cPzlpm3hhFoB"
   },
   "source": [
    "## Activity 3: String Concatenation\n",
    "\n",
    "**Description:** In this puzzle, you'll practice string concatenation.\n",
    "\n",
    "**Questions:**\n",
    "1. What is string concatenation, and why is it used?\n",
    "2. How can you concatenate strings in Python?\n",
    "3. Can you provide an example of another way to concatenate strings?"
   ]
  },
  {
   "cell_type": "markdown",
   "metadata": {
    "id": "6-OlMXbfipll"
   },
   "source": [
    "1.\n",
    "\n",
    "2.\n",
    "\n",
    "3."
   ]
  },
  {
   "cell_type": "markdown",
   "metadata": {
    "id": "sHY2yePUif6Y"
   },
   "source": [
    "**Instructions:**\n",
    "1. Fix the string concatenation issue to correctly print \"Hello, Alice!\".\n",
    "2. Print the corrected message.\n",
    "\n",
    "**Code:**\n",
    "```python\n",
    "greeting = \"Hello,\"\n",
    "name = \"Alice\"\n",
    "print(greeting name)\n",
    "```\n",
    "\n",
    "**Expected Output:**\n",
    "```\n",
    "Hello, Alice!\n",
    "```"
   ]
  },
  {
   "cell_type": "code",
   "execution_count": null,
   "metadata": {
    "id": "LEkDj3C2ihCa"
   },
   "outputs": [],
   "source": [
    "#Write Code Here"
   ]
  },
  {
   "cell_type": "markdown",
   "metadata": {
    "id": "Zt8U4wpJhIH1"
   },
   "source": [
    "\n",
    "## Activity 4: Arithmetic Error\n",
    "\n",
    "**Description:** In this puzzle, you'll handle an arithmetic error.\n",
    "\n",
    "**Questions:**\n",
    "1. What is the error that occurs in this code, and why does it happen?\n",
    "2. How can you prevent or handle division by zero errors in Python?\n",
    "3. Can you provide an example of another arithmetic operation that might result in an error?\n"
   ]
  },
  {
   "cell_type": "markdown",
   "metadata": {
    "id": "d_heR9WZitla"
   },
   "source": [
    "1.\n",
    "\n",
    "2.\n",
    "\n",
    "3."
   ]
  },
  {
   "cell_type": "markdown",
   "metadata": {
    "id": "JNVLjNa2i1cc"
   },
   "source": [
    "\n",
    "**Instructions:**\n",
    "1. Identify the arithmetic error in the code.\n",
    "2. Handle the error correctly to avoid division by zero.\n",
    "3. Print the result.\n",
    "\n",
    "**Code:**\n",
    "```python\n",
    "num1 = 10\n",
    "num2 = 0\n",
    "result = num1 / num2\n",
    "print(result)\n",
    "```\n",
    "\n",
    "**Expected Output:**\n",
    "```\n",
    "Error: Division by zero\n",
    "```\n"
   ]
  },
  {
   "cell_type": "code",
   "execution_count": null,
   "metadata": {
    "id": "QYQf2pJOi6cj"
   },
   "outputs": [],
   "source": [
    "#Write Code Here"
   ]
  },
  {
   "cell_type": "markdown",
   "metadata": {
    "id": "QhQz7N0mhLIe"
   },
   "source": [
    "## Activity 5: Unnecessary String Conversion\n",
    "\n",
    "**Description:** In this puzzle, you'll eliminate unnecessary string conversions.\n",
    "\n",
    "\n",
    "**Questions:**\n",
    "1. Why is it unnecessary to convert the number to a string in this code?\n",
    "2. What are the advantages of eliminating unnecessary string conversions?\n",
    "3. Can you think of another example where string conversion might be necessary?\n",
    "\n",
    "**Instructions:**\n",
    "1. Modify the code to print \"The answer is: 42\" using `str()`.\n",
    "2. Print the modified message."
   ]
  },
  {
   "cell_type": "markdown",
   "metadata": {
    "id": "LfBrX5EsitwX"
   },
   "source": [
    "1.\n",
    "\n",
    "2.\n",
    "\n",
    "3."
   ]
  },
  {
   "cell_type": "markdown",
   "metadata": {
    "id": "Eq9lxsRAlBDy"
   },
   "source": [
    "**Code:**\n",
    "```python\n",
    "number = 42\n",
    "text = \"The answer is: \" + number\n",
    "```\n",
    "\n",
    "**Expected Output:**\n",
    "```\n",
    "The answer is: 42\n",
    "```"
   ]
  },
  {
   "cell_type": "code",
   "execution_count": null,
   "metadata": {
    "id": "Bv5sRHYalCUL"
   },
   "outputs": [],
   "source": [
    "#Write Code Here"
   ]
  },
  {
   "cell_type": "markdown",
   "metadata": {
    "id": "r-ERB-4_hOsX"
   },
   "source": [
    "## Activity 6: Improper String Format\n",
    "\n",
    "**Description:** In this puzzle, you'll create a stock market scenario using f-strings and format a stock price with two decimal places.\n",
    "\n",
    "**Questions:**\n",
    "1. How can you create formatted strings in Python using f-strings?\n",
    "2. What does the .2f format specifier do when formatting a float?\n",
    "3. Can you provide an example of a stock market scenario using f-strings and formatted stock prices?\n"
   ]
  },
  {
   "cell_type": "markdown",
   "metadata": {
    "id": "Zeq-5HqxlKhk"
   },
   "source": [
    "1.\n",
    "\n",
    "2.\n",
    "\n",
    "3."
   ]
  },
  {
   "cell_type": "markdown",
   "metadata": {
    "id": "g6aDGd2QlMiN"
   },
   "source": [
    "**Instructions:**\n",
    "1. Create variables to represent a stock name, stock symbol, and stock price.\n",
    "2. Use an f-string to print a stock market scenario that includes the stock name, symbol, and formatted stock price with two decimal places.\n",
    "3. Print the stock market scenario.\n",
    "\n",
    "**Code:**\n",
    "```python\n",
    "stock_name = \"TechCorp\"\n",
    "stock_symbol = \"TC\"\n",
    "stock_price = 1234.56789\n",
    "\n",
    "# Print the stock market scenario\n",
    "print(stock)\n",
    "```\n",
    "\n",
    "**Expected Output:**\n",
    "```\n",
    "The stock TechCorp (TC) is currently trading at $1234.57 per share.\n",
    "\n",
    "```"
   ]
  },
  {
   "cell_type": "code",
   "execution_count": null,
   "metadata": {
    "id": "5uU6yPzxlOWs"
   },
   "outputs": [],
   "source": [
    "#Write Code Here"
   ]
  },
  {
   "cell_type": "markdown",
   "metadata": {
    "id": "bRqgH_PMj_w1"
   },
   "source": [
    "## Actvity 7: Inconsistent Indentation\n",
    "\n",
    "**Description:** In this puzzle, you'll correct inconsistent indentation.\n",
    "\n",
    "**Questions:**\n",
    "1. Why is consistent indentation important in Python?\n",
    "2. What is the purpose of indentation in Python code?\n",
    "3. Can you explain the difference between tabs and spaces for indentation in Python?\n"
   ]
  },
  {
   "cell_type": "markdown",
   "metadata": {
    "id": "PMkPpwQdlVIY"
   },
   "source": [
    "1.\n",
    "\n",
    "2.\n",
    "\n",
    "3."
   ]
  },
  {
   "cell_type": "markdown",
   "metadata": {
    "id": "wMgu1eLElXC-"
   },
   "source": [
    "**Instructions:**\n",
    "1. Identify the inconsistent indentation in the code.\n",
    "2. Correct the indentation following Python's indentation rules.\n",
    "3. Print the corrected code.\n",
    "\n",
    "**Code:**\n",
    "```python\n",
    "print(\"Hello\")\n",
    "  print(\"World\")\n",
    "```\n",
    "\n",
    "**Expected Output:**\n",
    "```\n",
    "Hello World\n",
    "```"
   ]
  },
  {
   "cell_type": "code",
   "execution_count": null,
   "metadata": {
    "id": "pH4xo3EVlaWG"
   },
   "outputs": [],
   "source": [
    "#Write Code Here"
   ]
  },
  {
   "cell_type": "markdown",
   "metadata": {
    "id": "1RI0yNgThajE"
   },
   "source": [
    "## Actvity 8: Non-Descriptive Variable Names\n",
    "\n",
    "**Description:** In this puzzle, you'll improve code readability by using descriptive variable names.\n",
    "\n",
    "**Questions:**\n",
    "1. Why is it important to use descriptive variable names in code?\n",
    "2. How can descriptive variable names enhance code readability and maintenance?\n",
    "3. Can you provide an example of another situation where meaningful variable names are crucial?\n"
   ]
  },
  {
   "cell_type": "markdown",
   "metadata": {
    "id": "2nmry7EujmOZ"
   },
   "source": [
    "1.\n",
    "\n",
    "2.\n",
    "\n",
    "3."
   ]
  },
  {
   "cell_type": "markdown",
   "metadata": {
    "id": "2ciWX4zij03K"
   },
   "source": [
    "**Instructions:**\n",
    "1. Improve code readability by using descriptive variable names.\n",
    "2. Print the modified code.\n",
    "\n",
    "**Code:**\n",
    "```python\n",
    "# Non-descriptive variable names\n",
    "a = 10\n",
    "b = 5\n",
    "c = a + b\n",
    "\n",
    "# Print the non-descriptive code\n",
    "print(c)\n",
    "\n",
    "```\n",
    "\n",
    "**Expected Output:**\n",
    "```\n",
    "15\n",
    "```"
   ]
  },
  {
   "cell_type": "code",
   "execution_count": null,
   "metadata": {
    "id": "A-19LZ58j2JN"
   },
   "outputs": [],
   "source": [
    "#Write Code Here"
   ]
  },
  {
   "cell_type": "markdown",
   "metadata": {
    "id": "OFbAW-rEwuAu"
   },
   "source": [
    "## Activity 9: Calculating the Area of a Trapezoid\n",
    "\n",
    "**Description:** In this complex puzzle, we will work with a mathematical concept to calculate the area of a trapezoid. Trapezoids are quadrilateral shapes with two parallel sides (bases) and two non-parallel sides (legs). To calculate the area of a trapezoid, you can use the following formula:\n",
    "\n",
    "**Area = 0.5 × (sum of bases) × height**\n",
    "\n",
    "**Questions:**\n",
    "1. What is the formula for calculating the area of a trapezoid?\n",
    "2. Why is it essential to use the correct formula and values when performing mathematical calculations in programming?\n",
    "3. Can you identify any potential issues with the code provided?\n",
    "\n",
    "\n"
   ]
  },
  {
   "cell_type": "markdown",
   "metadata": {
    "id": "qvytw_Fwwz1v"
   },
   "source": [
    "1\n",
    "\n",
    "2\n",
    "\n",
    "3"
   ]
  },
  {
   "cell_type": "markdown",
   "metadata": {
    "id": "Zk2BWCqEw4p2"
   },
   "source": [
    "**Instructions:**\n",
    "- Examine the code below, which attempts to calculate the area of a trapezoid.\n",
    "- Identify any issues or errors in the code.\n",
    "- Correct the code to calculate the area of the trapezoid correctly.\n",
    "- Print the corrected result.\n",
    "\n",
    "**Code (Incorrect):**\n",
    "```python\n",
    "base1 = 5\n",
    "base2 = 0.7\n",
    "height = 8\n",
    "area = 0.5 * base1 + base2 * heights\n",
    "print(f\"The area of the trapezoid is: \" + str(area))\n",
    "```\n",
    "\n",
    "**Expected Output:**\n",
    "```\n",
    "The area of the trapezoid is: 48.0\n",
    "```"
   ]
  },
  {
   "cell_type": "code",
   "execution_count": null,
   "metadata": {
    "id": "VvRq9U2nw6In"
   },
   "outputs": [],
   "source": [
    "#Write Code Here"
   ]
  }
 ],
 "metadata": {
  "colab": {
   "provenance": []
  },
  "kernelspec": {
   "display_name": "Python 3 (ipykernel)",
   "language": "python",
   "name": "python3"
  },
  "language_info": {
   "codemirror_mode": {
    "name": "ipython",
    "version": 3
   },
   "file_extension": ".py",
   "mimetype": "text/x-python",
   "name": "python",
   "nbconvert_exporter": "python",
   "pygments_lexer": "ipython3",
   "version": "3.11.9"
  }
 },
 "nbformat": 4,
 "nbformat_minor": 4
}
